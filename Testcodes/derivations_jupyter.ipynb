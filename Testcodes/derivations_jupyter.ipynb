{
 "cells": [
  {
   "cell_type": "markdown",
   "metadata": {},
   "source": [
    "# Introduction"
   ]
  },
  {
   "cell_type": "markdown",
   "metadata": {},
   "source": [
    "This document serves to outline the derivation of the binary CH system whilst maintaining the general form of the CH system for ease of integrating a variety of expressions for the homogenous free energy.\n",
    "\n",
    "The conversion from the dimensional species transport equation to the dimensionless form and the conversion to the corresponding finite element weak forms will also be covered."
   ]
  },
  {
   "cell_type": "markdown",
   "metadata": {},
   "source": [
    "## Dimensional binary CH"
   ]
  },
  {
   "cell_type": "markdown",
   "metadata": {},
   "source": [
    "We work in differences of chemical potentials for convenience. Based on the derivation of Naum1994 and Petr2012, $$ \\mu_{AB} = \\frac{\\partial g}{\\partial a} - \\kappa \\nabla^{2}a $$ where $\\mu_{AB}$ is the difference of chemical potentials between species A and B, $g$ is the homogenous free energy expression, $a$ is the mole fraction of species A and $\\kappa$ is the gradient energy term.\n",
    "\n",
    "The corresponding CH species transport equation can be written as: $$ \\frac{\\partial a}{\\partial t} = \\nabla \\cdot \\big(D_{AB}a(1-a)\\nabla\\mu_{AB} \\big) $$ where $t$ is the dimensional time.\n",
    "\n",
    "The mole fraction of species B, $b$ , is inferred by a material balance constraint: $$ a + b = 1 $$"
   ]
  },
  {
   "cell_type": "markdown",
   "metadata": {},
   "source": [
    "## Non-dimensionalization"
   ]
  },
  {
   "cell_type": "markdown",
   "metadata": {},
   "source": [
    "We work in differences of chemical potentials for convenience. Based on the derivation of Naum1994 and Petr2012, $$ \\mu_{AB} = \\frac{\\partial g}{\\partial a} - \\kappa \\nabla^{2}a $$ where $\\mu_{AB}$ is the difference of chemical potentials between species A and B, $g$ is the homogenous free energy expression, $a$ is the mole fraction of species A and $\\kappa$ is the gradient energy term.\n",
    "\n",
    "The corresponding CH species transport equation can be written as: $$ \\frac{\\partial a}{\\partial t} = \\nabla \\cdot \\big(D_{AB}a(1-a)\\nabla\\mu_{AB} \\big) $$ where $t$ is the dimensional time.\n",
    "\n",
    "The mole fraction of species B, $b$ , is inferred by a material balance constraint: $$ a + b = 1 $$"
   ]
  },
  {
   "cell_type": "markdown",
   "metadata": {},
   "source": [
    "## Weak form expressions"
   ]
  },
  {
   "cell_type": "markdown",
   "metadata": {},
   "source": [
    "To implement the equation system in fenics, they need to be converted to the weak forms. The general approach is to introduce arbitrary test functions and integrate by parts to obtain the weak form. $$ L_{A} = \\int_{\\Omega}a h_{1} - a^{k-1}h_{1}\\ d\\tilde{V} + \\Delta\\tilde{t} \\int_{\\Omega}a(1-a)\\tilde{\\nabla}\\tilde{\\mu}{AB} \\cdot \\tilde{\\nabla}h{1} \\ d\\tilde{V} $$\n",
    "\n",
    "$$ L_{AB} = \\int_{\\Omega}\\tilde{\\mu}{AB}j{1}\\ d\\tilde{V} - \\int_{\\Omega} \\frac{\\partial g}{\\partial a}j_{1} + \\tilde{\\kappa}\\tilde{\\nabla}a \\cdot \\tilde{\\nabla}j_{1} \\ d\\tilde{V} $$\n",
    "\n",
    "The equations are coupled by solving the following non-linear variational problem: $$ L_{A} + L_{AB} = 0 $$"
   ]
  },
  {
   "cell_type": "markdown",
   "metadata": {},
   "source": [
    "## Numerical implementation"
   ]
  },
  {
   "cell_type": "markdown",
   "metadata": {},
   "source": [
    "### Model parameters"
   ]
  },
  {
   "cell_type": "code",
   "execution_count": null,
   "metadata": {},
   "outputs": [],
   "source": [
    "#chi_ab is the flory-huggins binary interaction parameter\n",
    "chi_ab = 0.006\n",
    "#N_A / N_B are the polymer chain lengths in terms of monomer units\n",
    "N_A = 1000\n",
    "N_B = 1000\n",
    "# D_AB is the diffusion coefficient for the polymeric species\n",
    "D_AB = 1e-11 \n",
    "\n",
    "# Intial momle fraction of species A\n",
    "A_RAW = 0.5\n",
    "\n",
    "#Numerics \n",
    "DT = 0.05\n",
    "TIME_MAX = 20\n",
    "N_CELLS = 80\n",
    "DOMAIN_LENGTH = 40\n",
    "# theta_ch = 0.5 -> Crank-Nicolson Timestepping\n",
    "theta_ch = 0.5"
   ]
  },
  {
   "cell_type": "markdown",
   "metadata": {},
   "source": [
    "### Homogenous free energy function"
   ]
  },
  {
   "cell_type": "code",
   "execution_count": null,
   "metadata": {},
   "outputs": [],
   "source": [
    "#Flory-Huggins Expression\n",
    "g = a * ln(a) / N_A + (1-a)*ln(1-a)/ N_B + a*(1-a)*chi_AB"
   ]
  },
  {
   "cell_type": "markdown",
   "metadata": {},
   "source": [
    "### Initial Conditions"
   ]
  },
  {
   "cell_type": "code",
   "execution_count": null,
   "metadata": {},
   "outputs": [],
   "source": [
    "class InitialConditions(Expression):\n",
    "    def __init__(self, **kwargs):\n",
    "        random.seed(1234)\n",
    "\n",
    "    def eval(self, values, x):\n",
    "        values[0] = A_RAW + 2.0 * NOISE_MAGNITUDE * (0.5 - random.random())\n",
    "        values[2] = 0.0\n",
    "\n",
    "    def value_shape(self):\n",
    "        return (2,)"
   ]
  },
  {
   "cell_type": "markdown",
   "metadata": {},
   "source": [
    "These initial conditions represent the initial concentration field of species A and the chemical potential $\\tilde{\\mu}_{AB}$. The noise is necessary to perturb the system to trigger spinodal decomposition. These would represent thermal fluctuations in the concentration field physically."
   ]
  },
  {
   "cell_type": "markdown",
   "metadata": {},
   "source": [
    "### Newton Solver"
   ]
  },
  {
   "cell_type": "code",
   "execution_count": null,
   "metadata": {},
   "outputs": [],
   "source": [
    "class CahnHilliardEquation(NonlinearProblem):\n",
    "    def __init__(self, a, L):\n",
    "        NonlinearProblem.__init__(self)\n",
    "        self.L = L\n",
    "        self.a = a\n",
    "        self.reset_sparsity = True\n",
    "    def F(self, b, x):\n",
    "        assemble(self.L, tensor=b)\n",
    "    def J(self, A, x):\n",
    "        assemble(self.a, tensor=A, reset_sparsity=self.reset_sparsity)\n",
    "        self.reset_sparsity = False"
   ]
  },
  {
   "cell_type": "markdown",
   "metadata": {},
   "source": [
    "### Form complier"
   ]
  },
  {
   "cell_type": "code",
   "execution_count": null,
   "metadata": {},
   "outputs": [],
   "source": [
    "parameters[\"form_compiler\"][\"optimize\"] = True\n",
    "parameters[\"form_compiler\"][\"cpp_optimize\"] = True\n",
    "parameters[\"form_compiler\"][\"representation\"] = \"quadrature\""
   ]
  },
  {
   "cell_type": "markdown",
   "metadata": {},
   "source": [
    "### Mesh generation"
   ]
  },
  {
   "cell_type": "code",
   "execution_count": null,
   "metadata": {},
   "outputs": [],
   "source": [
    "mesh = RectangleMesh(\n",
    "    Point(0.0, 0.0), Point(DOMAIN_LENGTH, DOMAIN_LENGTH), N_CELLS, N_CELLS\n",
    ")\n",
    "P1 = FiniteElement(\"Lagrange\", mesh.ufl_cell(), 1)\n",
    "\n",
    "CH = FunctionSpace(mesh, MixedElement([P1, P1, P1, P1, P1]))"
   ]
  },
  {
   "cell_type": "markdown",
   "metadata": {},
   "source": [
    "### Test functions"
   ]
  },
  {
   "cell_type": "code",
   "execution_count": null,
   "metadata": {},
   "outputs": [],
   "source": [
    "# Define trial and test functions\n",
    "dch = TrialFunction(CH)\n",
    "h_1, j_1 = TestFunctions(CH)\n",
    "\n",
    "#ch is the current solution and ch0 is the solution from previous converged step\n",
    "ch = Function(CH)\n",
    "ch0 = Function(CH)\n",
    "\n",
    "# Split mixed functions\n",
    "da, dmu_AB = split(dch)\n",
    "a, mu_AB = split(ch)\n",
    "a0, mu0_AB = split(ch0)\n",
    "\n",
    "a = variable(a)"
   ]
  },
  {
   "cell_type": "markdown",
   "metadata": {},
   "source": [
    "### Initial conditions and interpolating"
   ]
  },
  {
   "cell_type": "code",
   "execution_count": null,
   "metadata": {},
   "outputs": [],
   "source": [
    "ch_init = InitialConditions(degree=1)\n",
    "ch.interpolate(ch_init)\n",
    "ch0.interpolate(ch_init)\n",
    "\n",
    "kappa = (2.0/3.0)*chi_AB\n",
    "\n",
    "# Using the fenics autodifferentiation toolkit \n",
    "dgda = diff(g, a)\n",
    "\n",
    "# Introduce an expression for mu_{n+theta}\n",
    "mu_AB_mid = (1.0 - theta_ch) * mu0_AB + theta_ch * mu_AB\n",
    "\n",
    "dt = DT"
   ]
  },
  {
   "cell_type": "markdown",
   "metadata": {},
   "source": [
    "### Model equations"
   ]
  },
  {
   "cell_type": "code",
   "execution_count": null,
   "metadata": {},
   "outputs": [],
   "source": [
    "F_a = (\n",
    "    a * h_1 * dx\n",
    "    - a0 * h_1 * dx\n",
    "    + dt * a * (1.0 - a) * D_AB_ * dot(grad(mu_AB_mid), grad(h_1)) * dx\n",
    ")\n",
    "\n",
    "F_mu_AB = (\n",
    "    mu_AB * j_1 * dx\n",
    "    - dgda * j_1 * dx\n",
    "    - kappa * dot(grad(a), grad(j_1)) * dx\n",
    ")\n",
    "\n",
    "F = F_a + F_mu_AB\n",
    "\n",
    "#Compute directional derivative about u in the direction of du\n",
    "a = derivative(F, ch, dch)"
   ]
  },
  {
   "cell_type": "markdown",
   "metadata": {},
   "source": [
    "### Solver settings"
   ]
  },
  {
   "cell_type": "code",
   "execution_count": null,
   "metadata": {},
   "outputs": [],
   "source": [
    "problem = CahnHilliardEquation(a, F)\n",
    "\n",
    "solver = NewtonSolver()\n",
    "solver.parameters[\"linear_solver\"] = \"lu\"\n",
    "solver.parameters[\"convergence_criterion\"] = \"incremental\"\n",
    "solver.parameters[\"relative_tolerance\"] = 1e-6"
   ]
  },
  {
   "cell_type": "markdown",
   "metadata": {},
   "source": [
    "### Outputs"
   ]
  },
  {
   "cell_type": "code",
   "execution_count": null,
   "metadata": {},
   "outputs": [],
   "source": [
    "file_a = File(\"concentration_A.pvd\", \"compressed\")"
   ]
  },
  {
   "cell_type": "markdown",
   "metadata": {},
   "source": [
    "### Time stepping"
   ]
  },
  {
   "cell_type": "code",
   "execution_count": null,
   "metadata": {},
   "outputs": [],
   "source": [
    "t = 0.0\n",
    "timestep = 0\n",
    "\n",
    "# Output intial conditions\n",
    "file_a << (ch.split()[0], t)\n",
    "\n",
    "space = FunctionSpace(mesh, P1)\n",
    "\n",
    "while t < TIME_MAX:\n",
    "\n",
    "\n",
    "    timestep += 1\n",
    "    t += dt\n",
    "\n",
    "    if MPI.rank(mpi_comm_world()) == 0:\n",
    "        print \"Timestep\", timestep, \"Time\", t\n",
    "\n",
    "\t\tproj_a = project(ch.split()[0], FunctionSpace(mesh, P1))\n",
    "\n",
    "\t\tgather_a = Vector()\n",
    "\n",
    " \t\tproj_a.vector().gather(gather_a, np.array(range(space.dim()), \"intc\"))\n",
    "    \n",
    "\t\tif MPI.rank(mpi_comm_world()) == 0:\n",
    "    \n",
    "\n",
    "        print gather_a.array().shape\n",
    "        print gather_a.array().min()\n",
    "        print gather_a.array().max()file_a = File(\"concentration_A.pvd\", \"compressed\")"
   ]
  }
 ],
 "metadata": {
  "kernelspec": {
   "display_name": "Python 3",
   "language": "python",
   "name": "python3"
  },
  "language_info": {
   "codemirror_mode": {
    "name": "ipython",
    "version": 3
   },
   "file_extension": ".py",
   "mimetype": "text/x-python",
   "name": "python",
   "nbconvert_exporter": "python",
   "pygments_lexer": "ipython3",
   "version": "3.7.0"
  }
 },
 "nbformat": 4,
 "nbformat_minor": 2
}
